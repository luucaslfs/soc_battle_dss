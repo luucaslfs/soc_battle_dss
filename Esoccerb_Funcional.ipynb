{
  "nbformat": 4,
  "nbformat_minor": 0,
  "metadata": {
    "colab": {
      "name": "Esoccerb-Funcional.ipynb",
      "provenance": [],
      "collapsed_sections": [],
      "toc_visible": true,
      "include_colab_link": true
    },
    "kernelspec": {
      "name": "python3",
      "display_name": "Python 3"
    }
  },
  "cells": [
    {
      "cell_type": "markdown",
      "metadata": {
        "id": "view-in-github",
        "colab_type": "text"
      },
      "source": [
        "<a href=\"https://colab.research.google.com/github/luucaslfs/soc_battle_dss/blob/main/Esoccerb_Funcional.ipynb\" target=\"_parent\"><img src=\"https://colab.research.google.com/assets/colab-badge.svg\" alt=\"Open In Colab\"/></a>"
      ]
    },
    {
      "cell_type": "markdown",
      "metadata": {
        "id": "t36G8q2Rt0k8"
      },
      "source": [
        "#Data Mining/Cleaning\n",
        "\n"
      ]
    },
    {
      "cell_type": "code",
      "metadata": {
        "id": "O0UNYSzk17ur",
        "colab": {
          "base_uri": "https://localhost:8080/",
          "height": 34
        },
        "outputId": "d79c30a6-6996-4708-ec3f-223b6a81c0fa"
      },
      "source": [
        "!rm /etc/localtime\n",
        "!ln -s /usr/share/zoneinfo/America/Recife /etc/localtime\n",
        "!date"
      ],
      "execution_count": null,
      "outputs": [
        {
          "output_type": "stream",
          "text": [
            "Tue Oct  6 11:31:13 -03 2020\n"
          ],
          "name": "stdout"
        }
      ]
    },
    {
      "cell_type": "code",
      "metadata": {
        "id": "ffO2NZsV6hQd",
        "colab": {
          "base_uri": "https://localhost:8080/",
          "height": 404
        },
        "outputId": "f452e895-e32d-4145-b132-dadcb8a7bb9c"
      },
      "source": [
        "# AJUSTANDO FUSO_HORARIO p/ RECIFE\n",
        "# RODAR SEMPRE PRA CHECAR\n",
        "\n",
        "from bs4 import BeautifulSoup\n",
        "from urllib.request import Request, urlopen\n",
        "import pandas as pd\n",
        "import csv\n",
        "\n",
        "def tableDataText(table): #Retorna tabela em lista\n",
        "    rows_output = []\n",
        "    trs = table.find_all('tr')\n",
        "    header_row = [td.get_text(strip=True) for td in trs[0].find_all('th')] # column_row\n",
        "    header_row.append('MatchLink')\n",
        "    rows_output.append(header_row)\n",
        "    trs = trs[1:]\n",
        "    for tr in trs: #pra cada linha na tabela\n",
        "        lista = [td.get_text(strip=True) for td in tr.find_all('td')] # data_row\n",
        "        for a in tr.find_all('a', href=True):\n",
        "          if ('/r/') in a['href']: \n",
        "            lista.append(a['href'])\n",
        "            link = 'https://www.betsapi.com' + a['href'] \n",
        "            print('link:' + link) \n",
        "            getFGTime(link)\n",
        "        rows_output.append(lista)\n",
        "    return rows_output\n",
        "\n",
        "header = {'User-Agent': 'Mozilla/5.0'}\n",
        "\n",
        "def getFGTime(link): #Captura tempo do primeiro gol(se houver)\n",
        "    req = Request(link, None, headers=header)\n",
        "    print('ok')\n",
        "    page = urlopen(req)\n",
        "    print(page)\n",
        "    soup = BeautifulSoup(page, 'lxml')\n",
        "    goals = soup.find('list-group')\n",
        "    print(goals)\n",
        "\n",
        "def tableRequest(link): #Captura tabela do link\n",
        "    req = Request(link,headers=header)\n",
        "    page = urlopen(req)\n",
        "    soup = BeautifulSoup(page, 'lxml')\n",
        "    table = soup.find('table')\n",
        "    return table\n",
        "\n",
        "def toDataFrame(link): #Retorna dataframe da tabela do link\n",
        "    output = tableDataText(tableRequest(link))\n",
        "    df_table = pd.DataFrame(output[1:], columns = output[0])\n",
        "    return df_table\n",
        "\n",
        "def get_url(page_number): #Recebe o mumero da pag(negativo) e retorna link\n",
        "    return ('https://betsapi.com/le/22614/Esoccer-Battle--8-mins-play/p.' + str(-page_number))\n",
        "\n",
        "\n",
        "outputs = pd.DataFrame() # Criando DF resultado c/ coluna de 1st.gt\n",
        "page_number = 1000 # primeira pagina a ser capturada (da menos recente pra mais recente)\n",
        "\n",
        "for page in range(-page_number, 0): # captura pgs de tras pra frente\n",
        "    url = get_url(page)\n",
        "    new_table = toDataFrame(url)\n",
        "    outputs = outputs.append(new_table)\n",
        "    #print('Pagina ' + str(-page) + ' agregada.')\n",
        "    \n",
        "outputs.to_csv('raw_table.csv') #salvando num csv\n",
        "outputs"
      ],
      "execution_count": null,
      "outputs": [
        {
          "output_type": "stream",
          "text": [
            "link:https://www.betsapi.com/r/2505208/Chelsea-%28KRaftVK%29-Esports-v-AC-Milan-%28MeLToSiK%29-Esports\n",
            "ok\n"
          ],
          "name": "stdout"
        },
        {
          "output_type": "error",
          "ename": "HTTPError",
          "evalue": "ignored",
          "traceback": [
            "\u001b[0;31m---------------------------------------------------------------------------\u001b[0m",
            "\u001b[0;31mHTTPError\u001b[0m                                 Traceback (most recent call last)",
            "\u001b[0;32m<ipython-input-9-78676e7d77b5>\u001b[0m in \u001b[0;36m<module>\u001b[0;34m()\u001b[0m\n\u001b[1;32m     57\u001b[0m \u001b[0;32mfor\u001b[0m \u001b[0mpage\u001b[0m \u001b[0;32min\u001b[0m \u001b[0mrange\u001b[0m\u001b[0;34m(\u001b[0m\u001b[0;34m-\u001b[0m\u001b[0mpage_number\u001b[0m\u001b[0;34m,\u001b[0m \u001b[0;36m0\u001b[0m\u001b[0;34m)\u001b[0m\u001b[0;34m:\u001b[0m \u001b[0;31m# captura pgs de tras pra frente\u001b[0m\u001b[0;34m\u001b[0m\u001b[0;34m\u001b[0m\u001b[0m\n\u001b[1;32m     58\u001b[0m     \u001b[0murl\u001b[0m \u001b[0;34m=\u001b[0m \u001b[0mget_url\u001b[0m\u001b[0;34m(\u001b[0m\u001b[0mpage\u001b[0m\u001b[0;34m)\u001b[0m\u001b[0;34m\u001b[0m\u001b[0;34m\u001b[0m\u001b[0m\n\u001b[0;32m---> 59\u001b[0;31m     \u001b[0mnew_table\u001b[0m \u001b[0;34m=\u001b[0m \u001b[0mtoDataFrame\u001b[0m\u001b[0;34m(\u001b[0m\u001b[0murl\u001b[0m\u001b[0;34m)\u001b[0m\u001b[0;34m\u001b[0m\u001b[0;34m\u001b[0m\u001b[0m\n\u001b[0m\u001b[1;32m     60\u001b[0m     \u001b[0moutputs\u001b[0m \u001b[0;34m=\u001b[0m \u001b[0moutputs\u001b[0m\u001b[0;34m.\u001b[0m\u001b[0mappend\u001b[0m\u001b[0;34m(\u001b[0m\u001b[0mnew_table\u001b[0m\u001b[0;34m)\u001b[0m\u001b[0;34m\u001b[0m\u001b[0;34m\u001b[0m\u001b[0m\n\u001b[1;32m     61\u001b[0m     \u001b[0;31m#print('Pagina ' + str(-page) + ' agregada.')\u001b[0m\u001b[0;34m\u001b[0m\u001b[0;34m\u001b[0m\u001b[0;34m\u001b[0m\u001b[0m\n",
            "\u001b[0;32m<ipython-input-9-78676e7d77b5>\u001b[0m in \u001b[0;36mtoDataFrame\u001b[0;34m(link)\u001b[0m\n\u001b[1;32m     44\u001b[0m \u001b[0;34m\u001b[0m\u001b[0m\n\u001b[1;32m     45\u001b[0m \u001b[0;32mdef\u001b[0m \u001b[0mtoDataFrame\u001b[0m\u001b[0;34m(\u001b[0m\u001b[0mlink\u001b[0m\u001b[0;34m)\u001b[0m\u001b[0;34m:\u001b[0m \u001b[0;31m#Retorna dataframe da tabela do link\u001b[0m\u001b[0;34m\u001b[0m\u001b[0;34m\u001b[0m\u001b[0m\n\u001b[0;32m---> 46\u001b[0;31m     \u001b[0moutput\u001b[0m \u001b[0;34m=\u001b[0m \u001b[0mtableDataText\u001b[0m\u001b[0;34m(\u001b[0m\u001b[0mtableRequest\u001b[0m\u001b[0;34m(\u001b[0m\u001b[0mlink\u001b[0m\u001b[0;34m)\u001b[0m\u001b[0;34m)\u001b[0m\u001b[0;34m\u001b[0m\u001b[0;34m\u001b[0m\u001b[0m\n\u001b[0m\u001b[1;32m     47\u001b[0m     \u001b[0mdf_table\u001b[0m \u001b[0;34m=\u001b[0m \u001b[0mpd\u001b[0m\u001b[0;34m.\u001b[0m\u001b[0mDataFrame\u001b[0m\u001b[0;34m(\u001b[0m\u001b[0moutput\u001b[0m\u001b[0;34m[\u001b[0m\u001b[0;36m1\u001b[0m\u001b[0;34m:\u001b[0m\u001b[0;34m]\u001b[0m\u001b[0;34m,\u001b[0m \u001b[0mcolumns\u001b[0m \u001b[0;34m=\u001b[0m \u001b[0moutput\u001b[0m\u001b[0;34m[\u001b[0m\u001b[0;36m0\u001b[0m\u001b[0;34m]\u001b[0m\u001b[0;34m)\u001b[0m\u001b[0;34m\u001b[0m\u001b[0;34m\u001b[0m\u001b[0m\n\u001b[1;32m     48\u001b[0m     \u001b[0;32mreturn\u001b[0m \u001b[0mdf_table\u001b[0m\u001b[0;34m\u001b[0m\u001b[0;34m\u001b[0m\u001b[0m\n",
            "\u001b[0;32m<ipython-input-9-78676e7d77b5>\u001b[0m in \u001b[0;36mtableDataText\u001b[0;34m(table)\u001b[0m\n\u001b[1;32m     21\u001b[0m             \u001b[0mlink\u001b[0m \u001b[0;34m=\u001b[0m \u001b[0;34m'https://www.betsapi.com'\u001b[0m \u001b[0;34m+\u001b[0m \u001b[0ma\u001b[0m\u001b[0;34m[\u001b[0m\u001b[0;34m'href'\u001b[0m\u001b[0;34m]\u001b[0m\u001b[0;34m\u001b[0m\u001b[0;34m\u001b[0m\u001b[0m\n\u001b[1;32m     22\u001b[0m             \u001b[0mprint\u001b[0m\u001b[0;34m(\u001b[0m\u001b[0;34m'link:'\u001b[0m \u001b[0;34m+\u001b[0m \u001b[0mlink\u001b[0m\u001b[0;34m)\u001b[0m\u001b[0;34m\u001b[0m\u001b[0;34m\u001b[0m\u001b[0m\n\u001b[0;32m---> 23\u001b[0;31m             \u001b[0mgetFGTime\u001b[0m\u001b[0;34m(\u001b[0m\u001b[0mlink\u001b[0m\u001b[0;34m)\u001b[0m\u001b[0;34m\u001b[0m\u001b[0;34m\u001b[0m\u001b[0m\n\u001b[0m\u001b[1;32m     24\u001b[0m         \u001b[0mrows_output\u001b[0m\u001b[0;34m.\u001b[0m\u001b[0mappend\u001b[0m\u001b[0;34m(\u001b[0m\u001b[0mlista\u001b[0m\u001b[0;34m)\u001b[0m\u001b[0;34m\u001b[0m\u001b[0;34m\u001b[0m\u001b[0m\n\u001b[1;32m     25\u001b[0m     \u001b[0;32mreturn\u001b[0m \u001b[0mrows_output\u001b[0m\u001b[0;34m\u001b[0m\u001b[0;34m\u001b[0m\u001b[0m\n",
            "\u001b[0;32m<ipython-input-9-78676e7d77b5>\u001b[0m in \u001b[0;36mgetFGTime\u001b[0;34m(link)\u001b[0m\n\u001b[1;32m     30\u001b[0m     \u001b[0mreq\u001b[0m \u001b[0;34m=\u001b[0m \u001b[0mRequest\u001b[0m\u001b[0;34m(\u001b[0m\u001b[0mlink\u001b[0m\u001b[0;34m,\u001b[0m \u001b[0;32mNone\u001b[0m\u001b[0;34m,\u001b[0m \u001b[0mheaders\u001b[0m\u001b[0;34m=\u001b[0m\u001b[0mheader\u001b[0m\u001b[0;34m)\u001b[0m\u001b[0;34m\u001b[0m\u001b[0;34m\u001b[0m\u001b[0m\n\u001b[1;32m     31\u001b[0m     \u001b[0mprint\u001b[0m\u001b[0;34m(\u001b[0m\u001b[0;34m'ok'\u001b[0m\u001b[0;34m)\u001b[0m\u001b[0;34m\u001b[0m\u001b[0;34m\u001b[0m\u001b[0m\n\u001b[0;32m---> 32\u001b[0;31m     \u001b[0mpage\u001b[0m \u001b[0;34m=\u001b[0m \u001b[0murlopen\u001b[0m\u001b[0;34m(\u001b[0m\u001b[0mreq\u001b[0m\u001b[0;34m)\u001b[0m\u001b[0;34m\u001b[0m\u001b[0;34m\u001b[0m\u001b[0m\n\u001b[0m\u001b[1;32m     33\u001b[0m     \u001b[0mprint\u001b[0m\u001b[0;34m(\u001b[0m\u001b[0mpage\u001b[0m\u001b[0;34m)\u001b[0m\u001b[0;34m\u001b[0m\u001b[0;34m\u001b[0m\u001b[0m\n\u001b[1;32m     34\u001b[0m     \u001b[0msoup\u001b[0m \u001b[0;34m=\u001b[0m \u001b[0mBeautifulSoup\u001b[0m\u001b[0;34m(\u001b[0m\u001b[0mpage\u001b[0m\u001b[0;34m,\u001b[0m \u001b[0;34m'lxml'\u001b[0m\u001b[0;34m)\u001b[0m\u001b[0;34m\u001b[0m\u001b[0;34m\u001b[0m\u001b[0m\n",
            "\u001b[0;32m/usr/lib/python3.6/urllib/request.py\u001b[0m in \u001b[0;36murlopen\u001b[0;34m(url, data, timeout, cafile, capath, cadefault, context)\u001b[0m\n\u001b[1;32m    221\u001b[0m     \u001b[0;32melse\u001b[0m\u001b[0;34m:\u001b[0m\u001b[0;34m\u001b[0m\u001b[0;34m\u001b[0m\u001b[0m\n\u001b[1;32m    222\u001b[0m         \u001b[0mopener\u001b[0m \u001b[0;34m=\u001b[0m \u001b[0m_opener\u001b[0m\u001b[0;34m\u001b[0m\u001b[0;34m\u001b[0m\u001b[0m\n\u001b[0;32m--> 223\u001b[0;31m     \u001b[0;32mreturn\u001b[0m \u001b[0mopener\u001b[0m\u001b[0;34m.\u001b[0m\u001b[0mopen\u001b[0m\u001b[0;34m(\u001b[0m\u001b[0murl\u001b[0m\u001b[0;34m,\u001b[0m \u001b[0mdata\u001b[0m\u001b[0;34m,\u001b[0m \u001b[0mtimeout\u001b[0m\u001b[0;34m)\u001b[0m\u001b[0;34m\u001b[0m\u001b[0;34m\u001b[0m\u001b[0m\n\u001b[0m\u001b[1;32m    224\u001b[0m \u001b[0;34m\u001b[0m\u001b[0m\n\u001b[1;32m    225\u001b[0m \u001b[0;32mdef\u001b[0m \u001b[0minstall_opener\u001b[0m\u001b[0;34m(\u001b[0m\u001b[0mopener\u001b[0m\u001b[0;34m)\u001b[0m\u001b[0;34m:\u001b[0m\u001b[0;34m\u001b[0m\u001b[0;34m\u001b[0m\u001b[0m\n",
            "\u001b[0;32m/usr/lib/python3.6/urllib/request.py\u001b[0m in \u001b[0;36mopen\u001b[0;34m(self, fullurl, data, timeout)\u001b[0m\n\u001b[1;32m    530\u001b[0m         \u001b[0;32mfor\u001b[0m \u001b[0mprocessor\u001b[0m \u001b[0;32min\u001b[0m \u001b[0mself\u001b[0m\u001b[0;34m.\u001b[0m\u001b[0mprocess_response\u001b[0m\u001b[0;34m.\u001b[0m\u001b[0mget\u001b[0m\u001b[0;34m(\u001b[0m\u001b[0mprotocol\u001b[0m\u001b[0;34m,\u001b[0m \u001b[0;34m[\u001b[0m\u001b[0;34m]\u001b[0m\u001b[0;34m)\u001b[0m\u001b[0;34m:\u001b[0m\u001b[0;34m\u001b[0m\u001b[0;34m\u001b[0m\u001b[0m\n\u001b[1;32m    531\u001b[0m             \u001b[0mmeth\u001b[0m \u001b[0;34m=\u001b[0m \u001b[0mgetattr\u001b[0m\u001b[0;34m(\u001b[0m\u001b[0mprocessor\u001b[0m\u001b[0;34m,\u001b[0m \u001b[0mmeth_name\u001b[0m\u001b[0;34m)\u001b[0m\u001b[0;34m\u001b[0m\u001b[0;34m\u001b[0m\u001b[0m\n\u001b[0;32m--> 532\u001b[0;31m             \u001b[0mresponse\u001b[0m \u001b[0;34m=\u001b[0m \u001b[0mmeth\u001b[0m\u001b[0;34m(\u001b[0m\u001b[0mreq\u001b[0m\u001b[0;34m,\u001b[0m \u001b[0mresponse\u001b[0m\u001b[0;34m)\u001b[0m\u001b[0;34m\u001b[0m\u001b[0;34m\u001b[0m\u001b[0m\n\u001b[0m\u001b[1;32m    533\u001b[0m \u001b[0;34m\u001b[0m\u001b[0m\n\u001b[1;32m    534\u001b[0m         \u001b[0;32mreturn\u001b[0m \u001b[0mresponse\u001b[0m\u001b[0;34m\u001b[0m\u001b[0;34m\u001b[0m\u001b[0m\n",
            "\u001b[0;32m/usr/lib/python3.6/urllib/request.py\u001b[0m in \u001b[0;36mhttp_response\u001b[0;34m(self, request, response)\u001b[0m\n\u001b[1;32m    640\u001b[0m         \u001b[0;32mif\u001b[0m \u001b[0;32mnot\u001b[0m \u001b[0;34m(\u001b[0m\u001b[0;36m200\u001b[0m \u001b[0;34m<=\u001b[0m \u001b[0mcode\u001b[0m \u001b[0;34m<\u001b[0m \u001b[0;36m300\u001b[0m\u001b[0;34m)\u001b[0m\u001b[0;34m:\u001b[0m\u001b[0;34m\u001b[0m\u001b[0;34m\u001b[0m\u001b[0m\n\u001b[1;32m    641\u001b[0m             response = self.parent.error(\n\u001b[0;32m--> 642\u001b[0;31m                 'http', request, response, code, msg, hdrs)\n\u001b[0m\u001b[1;32m    643\u001b[0m \u001b[0;34m\u001b[0m\u001b[0m\n\u001b[1;32m    644\u001b[0m         \u001b[0;32mreturn\u001b[0m \u001b[0mresponse\u001b[0m\u001b[0;34m\u001b[0m\u001b[0;34m\u001b[0m\u001b[0m\n",
            "\u001b[0;32m/usr/lib/python3.6/urllib/request.py\u001b[0m in \u001b[0;36merror\u001b[0;34m(self, proto, *args)\u001b[0m\n\u001b[1;32m    562\u001b[0m             \u001b[0mhttp_err\u001b[0m \u001b[0;34m=\u001b[0m \u001b[0;36m0\u001b[0m\u001b[0;34m\u001b[0m\u001b[0;34m\u001b[0m\u001b[0m\n\u001b[1;32m    563\u001b[0m         \u001b[0margs\u001b[0m \u001b[0;34m=\u001b[0m \u001b[0;34m(\u001b[0m\u001b[0mdict\u001b[0m\u001b[0;34m,\u001b[0m \u001b[0mproto\u001b[0m\u001b[0;34m,\u001b[0m \u001b[0mmeth_name\u001b[0m\u001b[0;34m)\u001b[0m \u001b[0;34m+\u001b[0m \u001b[0margs\u001b[0m\u001b[0;34m\u001b[0m\u001b[0;34m\u001b[0m\u001b[0m\n\u001b[0;32m--> 564\u001b[0;31m         \u001b[0mresult\u001b[0m \u001b[0;34m=\u001b[0m \u001b[0mself\u001b[0m\u001b[0;34m.\u001b[0m\u001b[0m_call_chain\u001b[0m\u001b[0;34m(\u001b[0m\u001b[0;34m*\u001b[0m\u001b[0margs\u001b[0m\u001b[0;34m)\u001b[0m\u001b[0;34m\u001b[0m\u001b[0;34m\u001b[0m\u001b[0m\n\u001b[0m\u001b[1;32m    565\u001b[0m         \u001b[0;32mif\u001b[0m \u001b[0mresult\u001b[0m\u001b[0;34m:\u001b[0m\u001b[0;34m\u001b[0m\u001b[0;34m\u001b[0m\u001b[0m\n\u001b[1;32m    566\u001b[0m             \u001b[0;32mreturn\u001b[0m \u001b[0mresult\u001b[0m\u001b[0;34m\u001b[0m\u001b[0;34m\u001b[0m\u001b[0m\n",
            "\u001b[0;32m/usr/lib/python3.6/urllib/request.py\u001b[0m in \u001b[0;36m_call_chain\u001b[0;34m(self, chain, kind, meth_name, *args)\u001b[0m\n\u001b[1;32m    502\u001b[0m         \u001b[0;32mfor\u001b[0m \u001b[0mhandler\u001b[0m \u001b[0;32min\u001b[0m \u001b[0mhandlers\u001b[0m\u001b[0;34m:\u001b[0m\u001b[0;34m\u001b[0m\u001b[0;34m\u001b[0m\u001b[0m\n\u001b[1;32m    503\u001b[0m             \u001b[0mfunc\u001b[0m \u001b[0;34m=\u001b[0m \u001b[0mgetattr\u001b[0m\u001b[0;34m(\u001b[0m\u001b[0mhandler\u001b[0m\u001b[0;34m,\u001b[0m \u001b[0mmeth_name\u001b[0m\u001b[0;34m)\u001b[0m\u001b[0;34m\u001b[0m\u001b[0;34m\u001b[0m\u001b[0m\n\u001b[0;32m--> 504\u001b[0;31m             \u001b[0mresult\u001b[0m \u001b[0;34m=\u001b[0m \u001b[0mfunc\u001b[0m\u001b[0;34m(\u001b[0m\u001b[0;34m*\u001b[0m\u001b[0margs\u001b[0m\u001b[0;34m)\u001b[0m\u001b[0;34m\u001b[0m\u001b[0;34m\u001b[0m\u001b[0m\n\u001b[0m\u001b[1;32m    505\u001b[0m             \u001b[0;32mif\u001b[0m \u001b[0mresult\u001b[0m \u001b[0;32mis\u001b[0m \u001b[0;32mnot\u001b[0m \u001b[0;32mNone\u001b[0m\u001b[0;34m:\u001b[0m\u001b[0;34m\u001b[0m\u001b[0;34m\u001b[0m\u001b[0m\n\u001b[1;32m    506\u001b[0m                 \u001b[0;32mreturn\u001b[0m \u001b[0mresult\u001b[0m\u001b[0;34m\u001b[0m\u001b[0;34m\u001b[0m\u001b[0m\n",
            "\u001b[0;32m/usr/lib/python3.6/urllib/request.py\u001b[0m in \u001b[0;36mhttp_error_302\u001b[0;34m(self, req, fp, code, msg, headers)\u001b[0m\n\u001b[1;32m    754\u001b[0m         \u001b[0mfp\u001b[0m\u001b[0;34m.\u001b[0m\u001b[0mclose\u001b[0m\u001b[0;34m(\u001b[0m\u001b[0;34m)\u001b[0m\u001b[0;34m\u001b[0m\u001b[0;34m\u001b[0m\u001b[0m\n\u001b[1;32m    755\u001b[0m \u001b[0;34m\u001b[0m\u001b[0m\n\u001b[0;32m--> 756\u001b[0;31m         \u001b[0;32mreturn\u001b[0m \u001b[0mself\u001b[0m\u001b[0;34m.\u001b[0m\u001b[0mparent\u001b[0m\u001b[0;34m.\u001b[0m\u001b[0mopen\u001b[0m\u001b[0;34m(\u001b[0m\u001b[0mnew\u001b[0m\u001b[0;34m,\u001b[0m \u001b[0mtimeout\u001b[0m\u001b[0;34m=\u001b[0m\u001b[0mreq\u001b[0m\u001b[0;34m.\u001b[0m\u001b[0mtimeout\u001b[0m\u001b[0;34m)\u001b[0m\u001b[0;34m\u001b[0m\u001b[0;34m\u001b[0m\u001b[0m\n\u001b[0m\u001b[1;32m    757\u001b[0m \u001b[0;34m\u001b[0m\u001b[0m\n\u001b[1;32m    758\u001b[0m     \u001b[0mhttp_error_301\u001b[0m \u001b[0;34m=\u001b[0m \u001b[0mhttp_error_303\u001b[0m \u001b[0;34m=\u001b[0m \u001b[0mhttp_error_307\u001b[0m \u001b[0;34m=\u001b[0m \u001b[0mhttp_error_302\u001b[0m\u001b[0;34m\u001b[0m\u001b[0;34m\u001b[0m\u001b[0m\n",
            "\u001b[0;32m/usr/lib/python3.6/urllib/request.py\u001b[0m in \u001b[0;36mopen\u001b[0;34m(self, fullurl, data, timeout)\u001b[0m\n\u001b[1;32m    530\u001b[0m         \u001b[0;32mfor\u001b[0m \u001b[0mprocessor\u001b[0m \u001b[0;32min\u001b[0m \u001b[0mself\u001b[0m\u001b[0;34m.\u001b[0m\u001b[0mprocess_response\u001b[0m\u001b[0;34m.\u001b[0m\u001b[0mget\u001b[0m\u001b[0;34m(\u001b[0m\u001b[0mprotocol\u001b[0m\u001b[0;34m,\u001b[0m \u001b[0;34m[\u001b[0m\u001b[0;34m]\u001b[0m\u001b[0;34m)\u001b[0m\u001b[0;34m:\u001b[0m\u001b[0;34m\u001b[0m\u001b[0;34m\u001b[0m\u001b[0m\n\u001b[1;32m    531\u001b[0m             \u001b[0mmeth\u001b[0m \u001b[0;34m=\u001b[0m \u001b[0mgetattr\u001b[0m\u001b[0;34m(\u001b[0m\u001b[0mprocessor\u001b[0m\u001b[0;34m,\u001b[0m \u001b[0mmeth_name\u001b[0m\u001b[0;34m)\u001b[0m\u001b[0;34m\u001b[0m\u001b[0;34m\u001b[0m\u001b[0m\n\u001b[0;32m--> 532\u001b[0;31m             \u001b[0mresponse\u001b[0m \u001b[0;34m=\u001b[0m \u001b[0mmeth\u001b[0m\u001b[0;34m(\u001b[0m\u001b[0mreq\u001b[0m\u001b[0;34m,\u001b[0m \u001b[0mresponse\u001b[0m\u001b[0;34m)\u001b[0m\u001b[0;34m\u001b[0m\u001b[0;34m\u001b[0m\u001b[0m\n\u001b[0m\u001b[1;32m    533\u001b[0m \u001b[0;34m\u001b[0m\u001b[0m\n\u001b[1;32m    534\u001b[0m         \u001b[0;32mreturn\u001b[0m \u001b[0mresponse\u001b[0m\u001b[0;34m\u001b[0m\u001b[0;34m\u001b[0m\u001b[0m\n",
            "\u001b[0;32m/usr/lib/python3.6/urllib/request.py\u001b[0m in \u001b[0;36mhttp_response\u001b[0;34m(self, request, response)\u001b[0m\n\u001b[1;32m    640\u001b[0m         \u001b[0;32mif\u001b[0m \u001b[0;32mnot\u001b[0m \u001b[0;34m(\u001b[0m\u001b[0;36m200\u001b[0m \u001b[0;34m<=\u001b[0m \u001b[0mcode\u001b[0m \u001b[0;34m<\u001b[0m \u001b[0;36m300\u001b[0m\u001b[0;34m)\u001b[0m\u001b[0;34m:\u001b[0m\u001b[0;34m\u001b[0m\u001b[0;34m\u001b[0m\u001b[0m\n\u001b[1;32m    641\u001b[0m             response = self.parent.error(\n\u001b[0;32m--> 642\u001b[0;31m                 'http', request, response, code, msg, hdrs)\n\u001b[0m\u001b[1;32m    643\u001b[0m \u001b[0;34m\u001b[0m\u001b[0m\n\u001b[1;32m    644\u001b[0m         \u001b[0;32mreturn\u001b[0m \u001b[0mresponse\u001b[0m\u001b[0;34m\u001b[0m\u001b[0;34m\u001b[0m\u001b[0m\n",
            "\u001b[0;32m/usr/lib/python3.6/urllib/request.py\u001b[0m in \u001b[0;36merror\u001b[0;34m(self, proto, *args)\u001b[0m\n\u001b[1;32m    568\u001b[0m         \u001b[0;32mif\u001b[0m \u001b[0mhttp_err\u001b[0m\u001b[0;34m:\u001b[0m\u001b[0;34m\u001b[0m\u001b[0;34m\u001b[0m\u001b[0m\n\u001b[1;32m    569\u001b[0m             \u001b[0margs\u001b[0m \u001b[0;34m=\u001b[0m \u001b[0;34m(\u001b[0m\u001b[0mdict\u001b[0m\u001b[0;34m,\u001b[0m \u001b[0;34m'default'\u001b[0m\u001b[0;34m,\u001b[0m \u001b[0;34m'http_error_default'\u001b[0m\u001b[0;34m)\u001b[0m \u001b[0;34m+\u001b[0m \u001b[0morig_args\u001b[0m\u001b[0;34m\u001b[0m\u001b[0;34m\u001b[0m\u001b[0m\n\u001b[0;32m--> 570\u001b[0;31m             \u001b[0;32mreturn\u001b[0m \u001b[0mself\u001b[0m\u001b[0;34m.\u001b[0m\u001b[0m_call_chain\u001b[0m\u001b[0;34m(\u001b[0m\u001b[0;34m*\u001b[0m\u001b[0margs\u001b[0m\u001b[0;34m)\u001b[0m\u001b[0;34m\u001b[0m\u001b[0;34m\u001b[0m\u001b[0m\n\u001b[0m\u001b[1;32m    571\u001b[0m \u001b[0;34m\u001b[0m\u001b[0m\n\u001b[1;32m    572\u001b[0m \u001b[0;31m# XXX probably also want an abstract factory that knows when it makes\u001b[0m\u001b[0;34m\u001b[0m\u001b[0;34m\u001b[0m\u001b[0;34m\u001b[0m\u001b[0m\n",
            "\u001b[0;32m/usr/lib/python3.6/urllib/request.py\u001b[0m in \u001b[0;36m_call_chain\u001b[0;34m(self, chain, kind, meth_name, *args)\u001b[0m\n\u001b[1;32m    502\u001b[0m         \u001b[0;32mfor\u001b[0m \u001b[0mhandler\u001b[0m \u001b[0;32min\u001b[0m \u001b[0mhandlers\u001b[0m\u001b[0;34m:\u001b[0m\u001b[0;34m\u001b[0m\u001b[0;34m\u001b[0m\u001b[0m\n\u001b[1;32m    503\u001b[0m             \u001b[0mfunc\u001b[0m \u001b[0;34m=\u001b[0m \u001b[0mgetattr\u001b[0m\u001b[0;34m(\u001b[0m\u001b[0mhandler\u001b[0m\u001b[0;34m,\u001b[0m \u001b[0mmeth_name\u001b[0m\u001b[0;34m)\u001b[0m\u001b[0;34m\u001b[0m\u001b[0;34m\u001b[0m\u001b[0m\n\u001b[0;32m--> 504\u001b[0;31m             \u001b[0mresult\u001b[0m \u001b[0;34m=\u001b[0m \u001b[0mfunc\u001b[0m\u001b[0;34m(\u001b[0m\u001b[0;34m*\u001b[0m\u001b[0margs\u001b[0m\u001b[0;34m)\u001b[0m\u001b[0;34m\u001b[0m\u001b[0;34m\u001b[0m\u001b[0m\n\u001b[0m\u001b[1;32m    505\u001b[0m             \u001b[0;32mif\u001b[0m \u001b[0mresult\u001b[0m \u001b[0;32mis\u001b[0m \u001b[0;32mnot\u001b[0m \u001b[0;32mNone\u001b[0m\u001b[0;34m:\u001b[0m\u001b[0;34m\u001b[0m\u001b[0;34m\u001b[0m\u001b[0m\n\u001b[1;32m    506\u001b[0m                 \u001b[0;32mreturn\u001b[0m \u001b[0mresult\u001b[0m\u001b[0;34m\u001b[0m\u001b[0;34m\u001b[0m\u001b[0m\n",
            "\u001b[0;32m/usr/lib/python3.6/urllib/request.py\u001b[0m in \u001b[0;36mhttp_error_default\u001b[0;34m(self, req, fp, code, msg, hdrs)\u001b[0m\n\u001b[1;32m    648\u001b[0m \u001b[0;32mclass\u001b[0m \u001b[0mHTTPDefaultErrorHandler\u001b[0m\u001b[0;34m(\u001b[0m\u001b[0mBaseHandler\u001b[0m\u001b[0;34m)\u001b[0m\u001b[0;34m:\u001b[0m\u001b[0;34m\u001b[0m\u001b[0;34m\u001b[0m\u001b[0m\n\u001b[1;32m    649\u001b[0m     \u001b[0;32mdef\u001b[0m \u001b[0mhttp_error_default\u001b[0m\u001b[0;34m(\u001b[0m\u001b[0mself\u001b[0m\u001b[0;34m,\u001b[0m \u001b[0mreq\u001b[0m\u001b[0;34m,\u001b[0m \u001b[0mfp\u001b[0m\u001b[0;34m,\u001b[0m \u001b[0mcode\u001b[0m\u001b[0;34m,\u001b[0m \u001b[0mmsg\u001b[0m\u001b[0;34m,\u001b[0m \u001b[0mhdrs\u001b[0m\u001b[0;34m)\u001b[0m\u001b[0;34m:\u001b[0m\u001b[0;34m\u001b[0m\u001b[0;34m\u001b[0m\u001b[0m\n\u001b[0;32m--> 650\u001b[0;31m         \u001b[0;32mraise\u001b[0m \u001b[0mHTTPError\u001b[0m\u001b[0;34m(\u001b[0m\u001b[0mreq\u001b[0m\u001b[0;34m.\u001b[0m\u001b[0mfull_url\u001b[0m\u001b[0;34m,\u001b[0m \u001b[0mcode\u001b[0m\u001b[0;34m,\u001b[0m \u001b[0mmsg\u001b[0m\u001b[0;34m,\u001b[0m \u001b[0mhdrs\u001b[0m\u001b[0;34m,\u001b[0m \u001b[0mfp\u001b[0m\u001b[0;34m)\u001b[0m\u001b[0;34m\u001b[0m\u001b[0;34m\u001b[0m\u001b[0m\n\u001b[0m\u001b[1;32m    651\u001b[0m \u001b[0;34m\u001b[0m\u001b[0m\n\u001b[1;32m    652\u001b[0m \u001b[0;32mclass\u001b[0m \u001b[0mHTTPRedirectHandler\u001b[0m\u001b[0;34m(\u001b[0m\u001b[0mBaseHandler\u001b[0m\u001b[0;34m)\u001b[0m\u001b[0;34m:\u001b[0m\u001b[0;34m\u001b[0m\u001b[0;34m\u001b[0m\u001b[0m\n",
            "\u001b[0;31mHTTPError\u001b[0m: HTTP Error 403: Forbidden"
          ]
        }
      ]
    },
    {
      "cell_type": "markdown",
      "metadata": {
        "id": "ijBV2YeeC8B4"
      },
      "source": [
        "*Obs futura: \n",
        "1. Se no td tiver vazio(view), entrar no link e capturar placar.*\n",
        "2. Pegar a primeira pagina e procurar 'ultima pagina'\n",
        "3. Linha 0 do site é a ultima da pag\n",
        "\n",
        "\n"
      ]
    },
    {
      "cell_type": "markdown",
      "metadata": {
        "id": "B84l3e94U_d4"
      },
      "source": [
        "# Preprocessing"
      ]
    },
    {
      "cell_type": "code",
      "metadata": {
        "id": "hw7WoGR-VGAp"
      },
      "source": [
        "import pandas as pd\n",
        "import csv\n",
        "\n",
        "df = pd.read_csv('raw_table.csv')\n",
        "\n",
        "# Separando Times de 'Casa e Visitante' e 'Jogadores' de 'Times'\n",
        "def splitTeams(df):\n",
        "  # Caso em que 'Esportsv' separa os times\n",
        "  df_case1 = df[df['Home v Away'].str.contains('Esportsv')].copy()\n",
        "  df_case1_split = df_case1['Home v Away'].str.split('Esportsv', n=1, expand=True)\n",
        "  \n",
        "  df_case1_casa = df_case1_split[0].str.split(' \\(', n=1, expand=True)\n",
        "  df_case1_visitante = df_case1_split[1].str.split(' \\(', n=1, expand=True)\n",
        "  \n",
        "  df_case1['Time A'] = df_case1_casa[0]\n",
        "  df_case1['Time B'] = df_case1_visitante[0]\n",
        "  df_case1['Jogador A'] = df_case1_casa[1].str.replace('\\)', '')\n",
        "  df_case1_jogadorb = df_case1_visitante[1].str.replace('\\) Esports', '')\n",
        "  df_case1['Jogador B'] = df_case1_jogadorb.str.replace('\\)', '')\n",
        "  return df_case1\n",
        "  \n",
        "  # Caso-contrario(s) TO-DO\n",
        "  # \n",
        "  #\n",
        "  #\n",
        "  #\n",
        "\n",
        "df = splitTeams(df)\n",
        "\n",
        "# Reorganizando colunas e ajustando data/hora\n",
        "# DATA SEMPRE pega pelo fuso do SERVIDOR/PC que roda isso aqui (checker lá em cima)\n",
        "df = df.rename(columns={'-':'Resultado', 'Date':'Data'})\n",
        "df = df.drop(columns=['Unnamed: 0', 'R', 'Home v Away'])\n",
        "df['Data'] = '2021/' + df['Data']\n",
        "df['Data'] = pd.to_datetime(df['Data'], errors='coerce')\n",
        "\n",
        "# lowercasing\n",
        "columns_list = ['Time A', 'Time B', 'Jogador A', 'Jogador B']\n",
        "for col in columns_list:\n",
        "  df[col] = df[col].str.lower()\n",
        "\n",
        "# Separando resultados dos dois times e deletando jogos 'Cancelled' e 'View'\n",
        "inv_result_canceled = df[df['Resultado'] == 'Cancelled'] \n",
        "inv_result_view = df[df['Resultado'] == 'View']\n",
        "inv_result = pd.concat([inv_result_canceled, inv_result_view]).index\n",
        "df.drop(inv_result, inplace=True)\n",
        "\n",
        "split_result = df['Resultado'].str.split('-', n=1, expand=True)\n",
        "df['Placar A'] = split_result[0].astype('int32')\n",
        "df['Placar B'] = split_result[1].astype('int32')\n",
        "\n",
        "# Limpando Nulos\n",
        "df = df.dropna()\n",
        "\n",
        "# Casos Extras\n",
        "df = df.rename(columns={'Data':'Date', 'Time A':'Team A', 'Time B':'Team B', 'Jogador A':'Player A', 'Jogador B':'Player B', 'Placar A':'Score A', 'Placar B':'Score B'})\n",
        "df = df.drop(axis=1, columns='Resultado')\n",
        "df\n",
        "\n",
        "# Salvando csv\n",
        "df.to_csv('prpc_table.csv')\n",
        "\n",
        "#from google.colab import drive\n",
        "#drive.mount('/content/gdrive', force_remount=True)\n",
        "#!cp prpc_table.csv \"/content/gdrive/My Drive/Esoccerb/Data\""
      ],
      "execution_count": null,
      "outputs": []
    },
    {
      "cell_type": "markdown",
      "metadata": {
        "id": "BEDX9uYgeMOO"
      },
      "source": [
        "#ESTATISTICAS"
      ]
    },
    {
      "cell_type": "code",
      "metadata": {
        "id": "3GIGZy0TZg8J"
      },
      "source": [
        "#ESTATISTICAS DE CONFRONTO\n",
        "\n",
        "df_live = pd.read_csv('prpc_table.csv')\n",
        "df_live = df_live.rename(columns={'Player A': 'PlayerA', 'Player B':'PlayerB', 'Score A':'ScoreA', 'Score B':'ScoreB'})\n",
        "\n",
        "def calc_confronto(player1, player2): \n",
        "  match_1 = df_live[(df_live.PlayerA.str.contains(player1)) & (df_live.PlayerB.str.contains(player2))]\n",
        "  match_2 = df_live[(df_live.PlayerA.str.contains(player2)) & (df_live.PlayerB.str.contains(player1))]\n",
        "  confronto = pd.concat([match_1, match_2]).drop(axis=1, columns='Unnamed: 0')\n",
        "  confronto_last = confronto.tail(10)\n",
        "\n",
        "  pct_zeroazero = (len(confronto[(confronto.ScoreA == 0) & (confronto.ScoreB == 0)])*100)/len(confronto)\n",
        "  pct_umaum = (len(confronto[(confronto.ScoreA == 1) & (confronto.ScoreB == 1)])*100)/len(confronto)\n",
        "  pct_empates = (len(confronto[(confronto.ScoreA == confronto.ScoreB)])*100)/len(confronto)\n",
        "  pct_ambos = (len(confronto[(confronto.ScoreA > 0) & (confronto.ScoreB > 0)])*100/len(confronto))\n",
        "\n",
        "  pct_zeroazero_last = (len(confronto_last[(confronto_last.ScoreA == 0) & (confronto_last.ScoreB == 0)])*100)/len(confronto_last)\n",
        "  pct_umaum_last = (len(confronto_last[(confronto_last.ScoreA == 1) & (confronto_last.ScoreB == 1)])*100)/len(confronto_last)\n",
        "  pct_empates_last = (len(confronto_last[(confronto_last.ScoreA == confronto_last.ScoreB)])*100)/len(confronto_last)\n",
        "  pct_ambos_last = (len(confronto_last[(confronto_last.ScoreA > 0) & (confronto_last.ScoreB > 0)])*100/len(confronto_last))\n",
        "\n",
        "  vitorias_p1 = len(match_1[(match_1.ScoreA > match_1.ScoreB)]) + len(match_2[(match_2.ScoreA < match_2.ScoreB)])\n",
        "  pct_p1 = (vitorias_p1*100)/len(confronto)\n",
        "  vitorias_p2 = len(match_1[(match_1.ScoreA < match_1.ScoreB)]) + len(match_2[(match_2.ScoreA > match_2.ScoreB)]) \n",
        "  pct_p2 = (vitorias_p2*100)/len(confronto)\n",
        "\n",
        "  print('\\n\\nConfronto: ' + player1 + '({0:.2f}%)'.format(pct_p1) + ' vs ' + player2 + '({0:.2f}%)'.format(pct_p2) + '\\n')\n",
        "  print('Vitorias de {}: {}'.format(player1, str(vitorias_p1)))\n",
        "  print('Vitorias de {}: {}\\n'.format(player2, str(vitorias_p2)))\n",
        "  print('Jogos computados: '+ str(len(confronto)) + '\\nEmpates: ' + format(pct_empates, '.2f')+'%' +'\\n% do Total de Jogos Terminados em 0-0: '+ format(pct_zeroazero, '.2f') + '%' + '\\n% do Total de Jogos Terminados em 1-1: ' + format(pct_umaum, '.2f') + '%\\n' + '% de Ambos Marcam: ' + format(pct_ambos, '.2f') + '\\n\\nUltimos Resultados do Confronto: ')\n",
        "  last_results = confronto # O numero em tail(#) indica a qtde de resultados que vai ser exibido\n",
        "  last_results = last_results[['Date', 'Team A', 'PlayerA', 'ScoreA', 'ScoreB', 'PlayerB', 'Team B']]\n",
        "  display(last_results.tail(10))\n",
        "  print('\\n\\n ESTATISTICAS DOS ULTIMOS 10 CONFRONTOS\\n' + '\\nEmpates: ' + format(pct_empates_last, '.2f')+'%' +'\\n% do Total de Jogos Terminados em 0-0: '+ format(pct_zeroazero_last, '.2f') + '%' + '\\n% do Total de Jogos Terminados em 1-1: ' + format(pct_umaum_last, '.2f') + '%\\n' + '% de Ambos Marcam: ' + format(pct_ambos_last, '.2f'))\n",
        "  \n",
        "def playerstats(player1):\n",
        "  player_base = ['upcake22', 'meltosik', 'labotryas', 'kray', 'kraftvk']\n",
        "  for player2 in player_base:\n",
        "    if (player2 == player1) == False:\n",
        "      calc_confronto(player1, player2)\n"
      ],
      "execution_count": null,
      "outputs": []
    },
    {
      "cell_type": "code",
      "metadata": {
        "id": "sUlJtyo6fdCH",
        "colab": {
          "base_uri": "https://localhost:8080/",
          "height": 446
        },
        "outputId": "bcc9f040-7c7f-4837-d6f0-b9f82f6ade07"
      },
      "source": [
        "# RODE ESTA CELULA PRA CALCULAR AS ESTATISTICAS DO CONFRONTO\n",
        "\n",
        "#playerstats('upcake22')\n",
        "calc_confronto('olle', 'inq')\n",
        "#calc_confronto('up', 'lab')\n",
        "# Resultado abaixo\n"
      ],
      "execution_count": null,
      "outputs": [
        {
          "output_type": "stream",
          "text": [
            "\n",
            "\n",
            "Confronto: olle(0.00%) vs inq(100.00%)\n",
            "\n",
            "Vitorias de olle: 0\n",
            "Vitorias de inq: 1\n",
            "\n",
            "Jogos computados: 1\n",
            "Empates: 0.00%\n",
            "% do Total de Jogos Terminados em 0-0: 0.00%\n",
            "% do Total de Jogos Terminados em 1-1: 0.00%\n",
            "% de Ambos Marcam: 0.00\n",
            "\n",
            "Ultimos Resultados do Confronto: \n"
          ],
          "name": "stdout"
        },
        {
          "output_type": "display_data",
          "data": {
            "text/html": [
              "<div>\n",
              "<style scoped>\n",
              "    .dataframe tbody tr th:only-of-type {\n",
              "        vertical-align: middle;\n",
              "    }\n",
              "\n",
              "    .dataframe tbody tr th {\n",
              "        vertical-align: top;\n",
              "    }\n",
              "\n",
              "    .dataframe thead th {\n",
              "        text-align: right;\n",
              "    }\n",
              "</style>\n",
              "<table border=\"1\" class=\"dataframe\">\n",
              "  <thead>\n",
              "    <tr style=\"text-align: right;\">\n",
              "      <th></th>\n",
              "      <th>Date</th>\n",
              "      <th>Team A</th>\n",
              "      <th>PlayerA</th>\n",
              "      <th>ScoreA</th>\n",
              "      <th>ScoreB</th>\n",
              "      <th>PlayerB</th>\n",
              "      <th>Team B</th>\n",
              "    </tr>\n",
              "  </thead>\n",
              "  <tbody>\n",
              "    <tr>\n",
              "      <th>27</th>\n",
              "      <td>2020-10-06 12:40:00</td>\n",
              "      <td>psg</td>\n",
              "      <td>inquisitor</td>\n",
              "      <td>1</td>\n",
              "      <td>0</td>\n",
              "      <td>olle</td>\n",
              "      <td>man city</td>\n",
              "    </tr>\n",
              "  </tbody>\n",
              "</table>\n",
              "</div>"
            ],
            "text/plain": [
              "                   Date Team A      PlayerA  ScoreA  ScoreB PlayerB    Team B\n",
              "27  2020-10-06 12:40:00    psg  inquisitor        1       0    olle  man city"
            ]
          },
          "metadata": {
            "tags": []
          }
        },
        {
          "output_type": "stream",
          "text": [
            "\n",
            "\n",
            " ESTATISTICAS DOS ULTIMOS 10 CONFRONTOS\n",
            "\n",
            "Empates: 0.00%\n",
            "% do Total de Jogos Terminados em 0-0: 0.00%\n",
            "% do Total de Jogos Terminados em 1-1: 0.00%\n",
            "% de Ambos Marcam: 0.00\n"
          ],
          "name": "stdout"
        }
      ]
    },
    {
      "cell_type": "code",
      "metadata": {
        "id": "5AxnRkTSHLEW",
        "colab": {
          "base_uri": "https://localhost:8080/",
          "height": 343
        },
        "outputId": "058160ae-eb7c-4b9d-9ece-904a610dda3f"
      },
      "source": [
        "df_live.head(10)"
      ],
      "execution_count": null,
      "outputs": [
        {
          "output_type": "execute_result",
          "data": {
            "text/html": [
              "<div>\n",
              "<style scoped>\n",
              "    .dataframe tbody tr th:only-of-type {\n",
              "        vertical-align: middle;\n",
              "    }\n",
              "\n",
              "    .dataframe tbody tr th {\n",
              "        vertical-align: top;\n",
              "    }\n",
              "\n",
              "    .dataframe thead th {\n",
              "        text-align: right;\n",
              "    }\n",
              "</style>\n",
              "<table border=\"1\" class=\"dataframe\">\n",
              "  <thead>\n",
              "    <tr style=\"text-align: right;\">\n",
              "      <th></th>\n",
              "      <th>Unnamed: 0</th>\n",
              "      <th>Date</th>\n",
              "      <th>Team A</th>\n",
              "      <th>Team B</th>\n",
              "      <th>PlayerA</th>\n",
              "      <th>PlayerB</th>\n",
              "      <th>ScoreA</th>\n",
              "      <th>ScoreB</th>\n",
              "    </tr>\n",
              "  </thead>\n",
              "  <tbody>\n",
              "    <tr>\n",
              "      <th>0</th>\n",
              "      <td>0</td>\n",
              "      <td>2020-07-16 16:48:00</td>\n",
              "      <td>crystal palace</td>\n",
              "      <td>leicester</td>\n",
              "      <td>blackstar98</td>\n",
              "      <td>salayyy</td>\n",
              "      <td>2</td>\n",
              "      <td>1</td>\n",
              "    </tr>\n",
              "    <tr>\n",
              "      <th>1</th>\n",
              "      <td>1</td>\n",
              "      <td>2020-07-16 16:48:00</td>\n",
              "      <td>wolverhampton</td>\n",
              "      <td>west ham</td>\n",
              "      <td>taka</td>\n",
              "      <td>flewless_phoenix</td>\n",
              "      <td>3</td>\n",
              "      <td>0</td>\n",
              "    </tr>\n",
              "    <tr>\n",
              "      <th>2</th>\n",
              "      <td>2</td>\n",
              "      <td>2020-07-16 16:42:00</td>\n",
              "      <td>real madrid</td>\n",
              "      <td>liverpool</td>\n",
              "      <td>olle</td>\n",
              "      <td>inquisitor</td>\n",
              "      <td>0</td>\n",
              "      <td>0</td>\n",
              "    </tr>\n",
              "    <tr>\n",
              "      <th>3</th>\n",
              "      <td>3</td>\n",
              "      <td>2020-07-16 16:42:00</td>\n",
              "      <td>psg</td>\n",
              "      <td>barcelona</td>\n",
              "      <td>pablik</td>\n",
              "      <td>orlovsky1</td>\n",
              "      <td>1</td>\n",
              "      <td>2</td>\n",
              "    </tr>\n",
              "    <tr>\n",
              "      <th>4</th>\n",
              "      <td>4</td>\n",
              "      <td>2020-07-16 16:36:00</td>\n",
              "      <td>everton</td>\n",
              "      <td>wolverhampton</td>\n",
              "      <td>chellovekk</td>\n",
              "      <td>taka</td>\n",
              "      <td>0</td>\n",
              "      <td>1</td>\n",
              "    </tr>\n",
              "    <tr>\n",
              "      <th>5</th>\n",
              "      <td>5</td>\n",
              "      <td>2020-07-16 16:36:00</td>\n",
              "      <td>west ham</td>\n",
              "      <td>crystal palace</td>\n",
              "      <td>flewless_phoenix</td>\n",
              "      <td>blackstar98</td>\n",
              "      <td>2</td>\n",
              "      <td>2</td>\n",
              "    </tr>\n",
              "    <tr>\n",
              "      <th>6</th>\n",
              "      <td>6</td>\n",
              "      <td>2020-07-16 16:30:00</td>\n",
              "      <td>man city</td>\n",
              "      <td>real madrid</td>\n",
              "      <td>dm1trena</td>\n",
              "      <td>olle</td>\n",
              "      <td>0</td>\n",
              "      <td>0</td>\n",
              "    </tr>\n",
              "    <tr>\n",
              "      <th>7</th>\n",
              "      <td>7</td>\n",
              "      <td>2020-07-16 16:30:00</td>\n",
              "      <td>liverpool</td>\n",
              "      <td>psg</td>\n",
              "      <td>inquisitor</td>\n",
              "      <td>pablik</td>\n",
              "      <td>2</td>\n",
              "      <td>0</td>\n",
              "    </tr>\n",
              "    <tr>\n",
              "      <th>8</th>\n",
              "      <td>8</td>\n",
              "      <td>2020-07-16 16:24:00</td>\n",
              "      <td>leicester</td>\n",
              "      <td>west ham</td>\n",
              "      <td>salayyy</td>\n",
              "      <td>flewless_phoenix</td>\n",
              "      <td>0</td>\n",
              "      <td>1</td>\n",
              "    </tr>\n",
              "    <tr>\n",
              "      <th>9</th>\n",
              "      <td>9</td>\n",
              "      <td>2020-07-16 16:24:00</td>\n",
              "      <td>crystal palace</td>\n",
              "      <td>everton</td>\n",
              "      <td>blackstar98</td>\n",
              "      <td>chellovekk</td>\n",
              "      <td>0</td>\n",
              "      <td>1</td>\n",
              "    </tr>\n",
              "  </tbody>\n",
              "</table>\n",
              "</div>"
            ],
            "text/plain": [
              "   Unnamed: 0                 Date  ... ScoreA ScoreB\n",
              "0           0  2020-07-16 16:48:00  ...      2      1\n",
              "1           1  2020-07-16 16:48:00  ...      3      0\n",
              "2           2  2020-07-16 16:42:00  ...      0      0\n",
              "3           3  2020-07-16 16:42:00  ...      1      2\n",
              "4           4  2020-07-16 16:36:00  ...      0      1\n",
              "5           5  2020-07-16 16:36:00  ...      2      2\n",
              "6           6  2020-07-16 16:30:00  ...      0      0\n",
              "7           7  2020-07-16 16:30:00  ...      2      0\n",
              "8           8  2020-07-16 16:24:00  ...      0      1\n",
              "9           9  2020-07-16 16:24:00  ...      0      1\n",
              "\n",
              "[10 rows x 8 columns]"
            ]
          },
          "metadata": {
            "tags": []
          },
          "execution_count": 13
        }
      ]
    }
  ]
}